{
 "cells": [
  {
   "cell_type": "code",
   "execution_count": 1,
   "id": "280ada53-190d-4778-b6f0-2a81ca433651",
   "metadata": {},
   "outputs": [
    {
     "name": "stderr",
     "output_type": "stream",
     "text": [
      "\u001b[32m\u001b[1m  Activating\u001b[22m\u001b[39m project at `~/Projects/cmip6`\n"
     ]
    }
   ],
   "source": [
    "# activate environmennnt\n",
    "using  Pkg; Pkg.activate(\"..\")\n",
    "\n",
    "# use packages\n",
    "using CDSAPI\n",
    "using NCDatasets\n",
    "using PyPlot\n",
    "using Dates"
   ]
  },
  {
   "cell_type": "code",
   "execution_count": 2,
   "id": "c3fbe583-17a4-404e-80ae-baf90da4e556",
   "metadata": {},
   "outputs": [],
   "source": [
    "# get cartopy -- broken\n",
    "#=\n",
    "using PyCall\n",
    "\n",
    "ccrs = pyimport(\"cartopy.crs\")\n",
    "feature = pyimport(\"cartopy.feature\")\n",
    "=#\n",
    "\n",
    "# pygui(:tk)\n",
    "\n",
    "# use cartopy to make plots with maps -- downloads fail\n",
    "# cartopy is broken\n",
    "# ax = subplot(projection=ccrs.Orthographic(65, 13))\n",
    "# ax = subplot(projection=ccrs.PlateCarree())\n",
    "# ax.coastlines()\n",
    "# ax.add_feature(feature.OCEAN, color=\"navy\")\n",
    "# ax.add_feature(feature.LAND, color=\"lightgray\")"
   ]
  },
  {
   "cell_type": "code",
   "execution_count": null,
   "id": "d992f137-aa98-40c2-9946-b97d55776ef2",
   "metadata": {},
   "outputs": [
    {
     "name": "stderr",
     "output_type": "stream",
     "text": [
      "\u001b[34m\u001b[1m┌ \u001b[22m\u001b[39m\u001b[34m\u001b[1mDebug: \u001b[22m\u001b[39mPOST /api/v2/resources/reanalysis-era5-pressure-levels HTTP/1.1\n",
      "\u001b[34m\u001b[1m└ \u001b[22m\u001b[39m\u001b[90m@ HTTP.StreamRequest ~/.julia/packages/HTTP/GN0N3/src/clientlayers/StreamRequest.jl:23\u001b[39m\n",
      "\u001b[34m\u001b[1m┌ \u001b[22m\u001b[39m\u001b[34m\u001b[1mDebug: \u001b[22m\u001b[39mHTTP/1.1 202 Accepted <= (POST /api/v2/resources/reanalysis-era5-pressure-levels HTTP/1.1)\n",
      "\u001b[34m\u001b[1m└ \u001b[22m\u001b[39m\u001b[90m@ HTTP.StreamRequest ~/.julia/packages/HTTP/GN0N3/src/clientlayers/StreamRequest.jl:82\u001b[39m\n"
     ]
    },
    {
     "name": "stdout",
     "output_type": "stream",
     "text": [
      "request queue status running\n",
      "request queue status running\n",
      "request queue status running\n",
      "request queue status running\n",
      "request queue status running\n"
     ]
    }
   ],
   "source": [
    "# download ERA5 data from Copernicus Climate Data Store CDS API\n",
    "\n",
    "# daystrings(x) = @sprintf(\"%02d\",x)\n",
    "#=\n",
    "python format list of days this way:\n",
    "[\"{:02d}\".format(x) for x in range(1, 31+1)]\n",
    "\n",
    "    [ '01', '02', '03', '04', '05', '06',\n",
    "            \t\t\t      '07', '08', '09', '10', '11', '12',\n",
    "            \t\t\t      '13', '14', '15', '16', '17', '18',\n",
    "            \t\t\t      '19', '20', '21', '22', '23', '24',\n",
    "            \t\t\t      '25', '26', '27', '28', '29', '30',\n",
    "            \t\t\t      '31',],\n",
    "=#\n",
    "\n",
    "req = CDSAPI.py2ju(\"\"\"\n",
    "                         {\n",
    "                             'product_type': 'reanalysis',\n",
    "                             'format': 'netcdf',\n",
    "                             'area': [30, 40, -4, 90],\n",
    "                             'time': '00:00',\n",
    "                             'month': [ '05', '06' ],\n",
    "                             'day':     [ '01', '02', '03', '04', '05', '06',\n",
    "            \t\t\t      '07', '08', '09', '10', '11', '12',\n",
    "            \t\t\t      '13', '14', '15', '16', '17', '18',\n",
    "            \t\t\t      '19', '20', '21', '22', '23', '24',\n",
    "            \t\t\t      '25', '26', '27', '28', '29', '30',\n",
    "            \t\t\t      '31',],\n",
    "                             'year': ['2018', '2019', '2020', '2021', '2022'],\n",
    "                             'pressure_level': [ '850', '1000'],\n",
    "                             'variable': [ 'divergence', 'fraction_of_cloud_cover', 'geopotential',\n",
    "                                 'potential_vorticity', 'specific_humidity', 'temperature',\n",
    "                                 'u_component_of_wind', 'v_component_of_wind', 'vertical_velocity',\n",
    "                                 'vorticity'],\n",
    "                         }\n",
    "                         \"\"\")\n",
    "\n",
    "# download commented out\n",
    "r = CDSAPI.retrieve( \"reanalysis-era5-pressure-levels\", req , \"era5_as_850_1000.nc\" ) # saves data in .nc"
   ]
  },
  {
   "cell_type": "code",
   "execution_count": null,
   "id": "422aaae6",
   "metadata": {},
   "outputs": [],
   "source": []
  },
  {
   "cell_type": "code",
   "execution_count": null,
   "id": "b1fbc650-9d1b-4ecc-be16-3f47a4748a17",
   "metadata": {},
   "outputs": [],
   "source": [
    "##\n",
    "# plot data from local copy\n",
    "ds = NCDatasets.Dataset(\"era5_as_850_1000.nc\")\n",
    "\n",
    "# test contour vorticity at 850 hPa\n",
    "# contour(ds[\"longitude\"][:], ds[\"latitude\"][:], ds[\"vo\"][:,:,1,1]')"
   ]
  },
  {
   "cell_type": "code",
   "execution_count": null,
   "id": "f41e6fab-2a98-4f8f-a0a4-b1a953e4c457",
   "metadata": {},
   "outputs": [],
   "source": [
    "# use coasts.mat to plot land outlines\n",
    "using MAT\n",
    "coast = matread(\"coast.mat\")\n",
    "# separate landmasses into individual index ranges\n",
    "ibnd = [0; findall(isnan.(coast[\"lat\"][:]) .&& isnan.(coast[\"long\"][:])); length(coast[\"lat\"])+1]\n",
    "rng = [ ibnd[k]+1 : ibnd[k+1]-1 for k in 1:length(ibnd)-1] # vector of landmass ranges\n",
    "\n",
    "\"filter only index ranges for landmasses in a lon-lat box\"\n",
    "function rng_in_lonlatbox(rng, lon, lat, lon0, lon1, lat0, lat1)\n",
    "    flt(rng) = any(lon0.<lon[rng].<lon1 .&& lat0.<lat[rng].<lat1)\n",
    "    return filter(flt, rng)\n",
    "end\n",
    "\n",
    "\"plot regional coastlines\"\n",
    "function ascoast!(ax, asrng )\n",
    "    for r in asrng\n",
    "        ax.plot(coast[\"long\"][r], coast[\"lat\"][r], color=0.7.*[1 1 1])\n",
    "    end\n",
    "end\n",
    "\n",
    "# plot outlines of 4 Arabian Sea landmasses\n",
    "asrng = rng_in_lonlatbox( rng, coast[\"long\"][:], coast[\"lat\"][:],  40,90 , -4,30 )\n",
    "ax = subplot(1,1,1)\n",
    "ascoast!(ax, asrng)"
   ]
  },
  {
   "cell_type": "code",
   "execution_count": null,
   "id": "71e9a6eb-a693-48e1-87a8-09ee11808bff",
   "metadata": {
    "tags": []
   },
   "outputs": [],
   "source": [
    "ds"
   ]
  },
  {
   "cell_type": "code",
   "execution_count": null,
   "id": "9256a42f-7331-4f81-a501-f2d1a3942b63",
   "metadata": {},
   "outputs": [],
   "source": [
    "var=\"z\"\n",
    "ds[var].attrib[\"units\"]"
   ]
  },
  {
   "cell_type": "code",
   "execution_count": null,
   "id": "88b33766-3baa-46d7-9788-e6002b67b2e9",
   "metadata": {},
   "outputs": [],
   "source": [
    "# plot the variable\n",
    "function plotas!(ax, var, level=1, time=31)\n",
    "    ct = ax.contour(ds[\"longitude\"][:], ds[\"latitude\"][:], ds[var][:,:,level,time]', 14200:40:14800, vmin=14200, vmax=14800)\n",
    "    return ct\n",
    "end"
   ]
  },
  {
   "cell_type": "code",
   "execution_count": null,
   "id": "bcfee651-13a2-4e34-84e0-bbf8b6cf6238",
   "metadata": {},
   "outputs": [],
   "source": [
    "# plot 5 years of Z850\n",
    "clf()\n",
    "level = 1\n",
    "for i = 1:5\n",
    "    ax = subplot(2,3, i)\n",
    "    ax.set_xlim(40, 90)\n",
    "    ax.set_ylim(-4, 30)\n",
    "    ascoast!( ax, asrng )\n",
    "    \n",
    "    year = i-1\n",
    "    time = year*(31+30)+31+4 # June 4s\n",
    "    ct = plotas!( ax, \"z\", level, time )\n",
    "    i == 5 && ct.colorbar\n",
    "    # colorbar(ct)\n",
    "    if i == 2\n",
    "        ax.set_title( \"$(Dates.format(ds[\"time\"][time], \"U d\")) $(ds[\"level\"][level]) hPa $(ds[var].attrib[\"long_name\"]) $(ds[var].attrib[\"units\"])\\n $(Dates.year(ds[\"time\"][time]))\" )\n",
    "    else\n",
    "        ax.set_title( \"$(Dates.year(ds[\"time\"][time]))\" )\n",
    "    end\n",
    "end\n",
    "tight_layout()"
   ]
  },
  {
   "cell_type": "code",
   "execution_count": null,
   "id": "4541d0c1-9446-4721-9011-bea067d6b9a4",
   "metadata": {},
   "outputs": [],
   "source": [
    "# plot 5 years of vorticity at 850 hPa\n",
    "\n",
    "level = 1\n",
    "var = \"vo\"\n",
    "\n",
    "clf()\n",
    "for i = 1:5\n",
    "    ax = subplot(2,3, i)\n",
    "    ax.set_xlim(40, 90)\n",
    "    ax.set_ylim(-4, 30)\n",
    "    ascoast!( ax, asrng )\n",
    "    \n",
    "    year = i-1\n",
    "    time = year*(31+30)+31+4 # June 4s\n",
    "    ct = ax.contourf(ds[\"longitude\"][:], ds[\"latitude\"][:], \n",
    "          ds[var][:,:,level,time]', -1.5e-4:3e-5:3e-4,\n",
    "        cmap = ColorMap(\"RdYlBu_r\")) #, 16, vmin=-1.5e-4, vmax=1.5e4)\n",
    "    i == 5 && colorbar(ct)\n",
    "    # colorbar(ct)\n",
    "    if i == 2\n",
    "        ax.set_title( \"$(Dates.format(ds[\"time\"][time], \"U d\")) $(ds[\"level\"][level]) hPa $(ds[var].attrib[\"long_name\"]) $(ds[var].attrib[\"units\"])\\n $(Dates.year(ds[\"time\"][time]))\" )\n",
    "    else\n",
    "        ax.set_title( \"$(Dates.year(ds[\"time\"][time]))\" )\n",
    "    end\n",
    "end\n",
    "tight_layout()"
   ]
  },
  {
   "cell_type": "code",
   "execution_count": null,
   "id": "baff5031-1b6c-47c1-b6cc-1dd75cb6851e",
   "metadata": {},
   "outputs": [],
   "source": []
  }
 ],
 "metadata": {
  "kernelspec": {
   "display_name": "Julia 1.9.3",
   "language": "julia",
   "name": "julia-1.9"
  },
  "language_info": {
   "file_extension": ".jl",
   "mimetype": "application/julia",
   "name": "julia",
   "version": "1.9.3"
  }
 },
 "nbformat": 4,
 "nbformat_minor": 5
}
